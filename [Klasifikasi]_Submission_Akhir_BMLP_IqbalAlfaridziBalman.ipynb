{
 "cells": [
  {
   "cell_type": "markdown",
   "metadata": {
    "id": "fKADPWcFKlj3"
   },
   "source": [
    "# **1. Import Library**"
   ]
  },
  {
   "cell_type": "markdown",
   "metadata": {
    "id": "LgA3ERnVn84N"
   },
   "source": [
    "Pada tahap ini, Anda perlu mengimpor beberapa pustaka (library) Python yang dibutuhkan untuk analisis data dan pembangunan model machine learning."
   ]
  },
  {
   "cell_type": "code",
   "execution_count": 47,
   "metadata": {
    "id": "BlmvjLY9M4Yj"
   },
   "outputs": [],
   "source": [
    "import pandas as pd\n",
    "import numpy as np\n",
    "import seaborn as sns\n",
    "import matplotlib.pyplot as plt\n",
    "from sklearn.model_selection import train_test_split\n",
    "from sklearn.ensemble import RandomForestClassifier\n",
    "from sklearn.svm import SVC\n",
    "from sklearn.model_selection import cross_val_score\n",
    "from sklearn.metrics import confusion_matrix, accuracy_score, precision_score, recall_score, f1_score\n",
    "from sklearn.preprocessing import LabelEncoder"
   ]
  },
  {
   "cell_type": "markdown",
   "metadata": {
    "id": "f3YIEnAFKrKL"
   },
   "source": [
    "# **2. Memuat Dataset dari Hasil Clustering**"
   ]
  },
  {
   "cell_type": "markdown",
   "metadata": {
    "id": "Ey3ItwTen_7E"
   },
   "source": [
    "Memuat dataset hasil clustering dari file CSV ke dalam variabel DataFrame."
   ]
  },
  {
   "cell_type": "code",
   "execution_count": 48,
   "metadata": {
    "id": "GHCGNTyrM5fS"
   },
   "outputs": [
    {
     "data": {
      "text/html": [
       "<div>\n",
       "<style scoped>\n",
       "    .dataframe tbody tr th:only-of-type {\n",
       "        vertical-align: middle;\n",
       "    }\n",
       "\n",
       "    .dataframe tbody tr th {\n",
       "        vertical-align: top;\n",
       "    }\n",
       "\n",
       "    .dataframe thead th {\n",
       "        text-align: right;\n",
       "    }\n",
       "</style>\n",
       "<table border=\"1\" class=\"dataframe\">\n",
       "  <thead>\n",
       "    <tr style=\"text-align: right;\">\n",
       "      <th></th>\n",
       "      <th>city_name</th>\n",
       "      <th>latitude</th>\n",
       "      <th>longitude</th>\n",
       "      <th>country</th>\n",
       "      <th>population</th>\n",
       "      <th>cluster</th>\n",
       "    </tr>\n",
       "  </thead>\n",
       "  <tbody>\n",
       "    <tr>\n",
       "      <th>40996</th>\n",
       "      <td>Tukchi</td>\n",
       "      <td>57.3670</td>\n",
       "      <td>139.5000</td>\n",
       "      <td>Russia</td>\n",
       "      <td>10.0</td>\n",
       "      <td>4</td>\n",
       "    </tr>\n",
       "    <tr>\n",
       "      <th>40997</th>\n",
       "      <td>Numto</td>\n",
       "      <td>63.6667</td>\n",
       "      <td>71.3333</td>\n",
       "      <td>Russia</td>\n",
       "      <td>10.0</td>\n",
       "      <td>2</td>\n",
       "    </tr>\n",
       "    <tr>\n",
       "      <th>40998</th>\n",
       "      <td>Nord</td>\n",
       "      <td>81.7166</td>\n",
       "      <td>-17.8000</td>\n",
       "      <td>Greenland</td>\n",
       "      <td>10.0</td>\n",
       "      <td>2</td>\n",
       "    </tr>\n",
       "    <tr>\n",
       "      <th>40999</th>\n",
       "      <td>Timmiarmiut</td>\n",
       "      <td>62.5333</td>\n",
       "      <td>-42.2167</td>\n",
       "      <td>Greenland</td>\n",
       "      <td>10.0</td>\n",
       "      <td>2</td>\n",
       "    </tr>\n",
       "    <tr>\n",
       "      <th>41000</th>\n",
       "      <td>Nordvik</td>\n",
       "      <td>74.0165</td>\n",
       "      <td>111.5100</td>\n",
       "      <td>Russia</td>\n",
       "      <td>0.0</td>\n",
       "      <td>2</td>\n",
       "    </tr>\n",
       "  </tbody>\n",
       "</table>\n",
       "</div>"
      ],
      "text/plain": [
       "        city_name   latitude  longitude    country  population  cluster\n",
       "40996       Tukchi   57.3670   139.5000     Russia        10.0        4\n",
       "40997        Numto   63.6667    71.3333     Russia        10.0        2\n",
       "40998         Nord   81.7166   -17.8000  Greenland        10.0        2\n",
       "40999  Timmiarmiut   62.5333   -42.2167  Greenland        10.0        2\n",
       "41000      Nordvik   74.0165   111.5100     Russia         0.0        2"
      ]
     },
     "execution_count": 48,
     "metadata": {},
     "output_type": "execute_result"
    }
   ],
   "source": [
    "df = pd.read_csv('hasil_clustering.csv')\n",
    "df.tail()"
   ]
  },
  {
   "cell_type": "code",
   "execution_count": 49,
   "metadata": {},
   "outputs": [
    {
     "name": "stdout",
     "output_type": "stream",
     "text": [
      "<class 'pandas.core.frame.DataFrame'>\n",
      "RangeIndex: 41001 entries, 0 to 41000\n",
      "Data columns (total 6 columns):\n",
      " #   Column      Non-Null Count  Dtype  \n",
      "---  ------      --------------  -----  \n",
      " 0   city_name   41001 non-null  object \n",
      " 1   latitude    41001 non-null  float64\n",
      " 2   longitude   41001 non-null  float64\n",
      " 3   country     41001 non-null  object \n",
      " 4   population  41001 non-null  float64\n",
      " 5   cluster     41001 non-null  int64  \n",
      "dtypes: float64(3), int64(1), object(2)\n",
      "memory usage: 1.9+ MB\n"
     ]
    }
   ],
   "source": [
    "df.info()"
   ]
  },
  {
   "cell_type": "code",
   "execution_count": 50,
   "metadata": {},
   "outputs": [
    {
     "data": {
      "text/plain": [
       "city_name     0\n",
       "latitude      0\n",
       "longitude     0\n",
       "country       0\n",
       "population    0\n",
       "cluster       0\n",
       "dtype: int64"
      ]
     },
     "execution_count": 50,
     "metadata": {},
     "output_type": "execute_result"
    }
   ],
   "source": [
    "df.isnull().sum()"
   ]
  },
  {
   "cell_type": "code",
   "execution_count": 51,
   "metadata": {},
   "outputs": [
    {
     "data": {
      "image/png": "[encoded data removed]",
      "text/plain": [
       "<Figure size 1400x1000 with 4 Axes>"
      ]
     },
     "metadata": {},
     "output_type": "display_data"
    }
   ],
   "source": [
    "num_features = df.select_dtypes(include=[np.number])\n",
    "plt.figure(figsize=(14, 10))\n",
    "for i, column in enumerate(num_features.columns, 1):\n",
    "    plt.subplot(3, 4, i)\n",
    "    sns.histplot(df[column], bins=30, kde=True, color='blue')\n",
    "    plt.title(f'Distribusi {column}')\n",
    "plt.tight_layout()\n",
    "plt.show()"
   ]
  },
  {
   "cell_type": "code",
   "execution_count": 53,
   "metadata": {},
   "outputs": [
    {
     "data": {
      "text/plain": [
       "['city_name ', 'latitude', 'longitude', 'country', 'population', 'cluster']"
      ]
     },
     "execution_count": 53,
     "metadata": {},
     "output_type": "execute_result"
    }
   ],
   "source": [
    "df.columns.tolist()"
   ]
  },
  {
   "cell_type": "code",
   "execution_count": 54,
   "metadata": {},
   "outputs": [],
   "source": [
    "df.columns = df.columns.str.strip()"
   ]
  },
  {
   "cell_type": "code",
   "execution_count": 55,
   "metadata": {},
   "outputs": [
    {
     "data": {
      "text/plain": [
       "['city_name', 'latitude', 'longitude', 'country', 'population', 'cluster']"
      ]
     },
     "execution_count": 55,
     "metadata": {},
     "output_type": "execute_result"
    }
   ],
   "source": [
    "df.columns.tolist()"
   ]
  },
  {
   "cell_type": "code",
   "execution_count": 56,
   "metadata": {},
   "outputs": [
    {
     "name": "stdout",
     "output_type": "stream",
     "text": [
      "\n",
      "Tipe data setiap kolom:\n",
      "city_name      object\n",
      "latitude      float64\n",
      "longitude     float64\n",
      "country        object\n",
      "population    float64\n",
      "cluster         int64\n",
      "dtype: object\n"
     ]
    }
   ],
   "source": [
    "print(\"\\nTipe data setiap kolom:\")\n",
    "print(df.dtypes)"
   ]
  },
  {
   "cell_type": "code",
   "execution_count": 57,
   "metadata": {},
   "outputs": [],
   "source": [
    "df = df.drop(columns=['city_name'])"
   ]
  },
  {
   "cell_type": "code",
   "execution_count": 59,
   "metadata": {},
   "outputs": [],
   "source": [
    "if df['country'].dtype == 'object':\n",
    "    le = LabelEncoder()\n",
    "    df['country'] = le.fit_transform(df['country'])"
   ]
  },
  {
   "cell_type": "markdown",
   "metadata": {
    "id": "KkPem5eWL2UP"
   },
   "source": [
    "# **3. Data Splitting**"
   ]
  },
  {
   "cell_type": "markdown",
   "metadata": {
    "id": "YYj1rl_JNI9Y"
   },
   "source": [
    "Tahap Data Splitting bertujuan untuk memisahkan dataset menjadi dua bagian: data latih (training set) dan data uji (test set)."
   ]
  },
  {
   "cell_type": "code",
   "execution_count": 60,
   "metadata": {
    "id": "OubAW-7ONKVj"
   },
   "outputs": [
    {
     "name": "stdout",
     "output_type": "stream",
     "text": [
      "Training set shape: X_train=(32800, 4), y_train=(32800,)\n",
      "Test set shape: X_test=(8201, 4), y_test=(8201,)\n"
     ]
    }
   ],
   "source": [
    "X = df.drop(columns=['cluster'])  \n",
    "y = df['cluster']\n",
    "\n",
    "X_train, X_test, y_train, y_test = train_test_split(X, y, test_size=0.2, random_state=42)\n",
    " \n",
    "# Tampilkan bentuk set pelatihan dan set uji untuk memastikan split\n",
    "print(f\"Training set shape: X_train={X_train.shape}, y_train={y_train.shape}\")\n",
    "print(f\"Test set shape: X_test={X_test.shape}, y_test={y_test.shape}\")"
   ]
  },
  {
   "cell_type": "markdown",
   "metadata": {
    "id": "IVPbB03CMhTT"
   },
   "source": [
    "# **4. Membangun Model Klasifikasi**\n"
   ]
  },
  {
   "cell_type": "markdown",
   "metadata": {
    "id": "Ned1pL9zMmBK"
   },
   "source": [
    "## **a. Membangun Model Klasifikasi**"
   ]
  },
  {
   "cell_type": "markdown",
   "metadata": {
    "id": "WAWzPOE4Nkti"
   },
   "source": [
    "Setelah memilih algoritma klasifikasi yang sesuai, langkah selanjutnya adalah melatih model menggunakan data latih.\n",
    "\n",
    "Berikut adalah rekomendasi tahapannya.\n",
    "1. Pilih algoritma klasifikasi yang sesuai, seperti Logistic Regression, Decision Tree, Random Forest, atau K-Nearest Neighbors (KNN).\n",
    "2. Latih model menggunakan data latih."
   ]
  },
  {
   "cell_type": "code",
   "execution_count": 61,
   "metadata": {
    "id": "4JYxBe87NLDk"
   },
   "outputs": [
    {
     "data": {
      "text/plain": [
       "RandomForestClassifier(random_state=42)"
      ]
     },
     "execution_count": 61,
     "metadata": {},
     "output_type": "execute_result"
    }
   ],
   "source": [
    "rf = RandomForestClassifier(random_state=42)\n",
    "rf.fit(X_train, y_train)"
   ]
  },
  {
   "cell_type": "markdown",
   "metadata": {
    "id": "seYoHNY3XU1y"
   },
   "source": [
    "Tulis narasi atau penjelasan algoritma yang Anda gunakan."
   ]
  },
  {
   "cell_type": "markdown",
   "metadata": {
    "id": "ergzChZFEL-O"
   },
   "source": [
    "## **b. Evaluasi Model Klasifikasi**"
   ]
  },
  {
   "cell_type": "markdown",
   "metadata": {
    "id": "zOm68u-7NpLT"
   },
   "source": [
    "Berikut adalah **rekomendasi** tahapannya.\n",
    "1. Lakukan prediksi menggunakan data uji.\n",
    "2. Hitung metrik evaluasi seperti Accuracy dan F1-Score (Opsional: Precision dan Recall).\n",
    "3. Buat confusion matrix untuk melihat detail prediksi benar dan salah."
   ]
  },
  {
   "cell_type": "code",
   "execution_count": 62,
   "metadata": {},
   "outputs": [
    {
     "name": "stdout",
     "output_type": "stream",
     "text": [
      "                Model  Accuracy  Precision    Recall  F1-Score\n",
      "0  Random Forest (RF)  0.997805   0.997773  0.991598  0.994635\n"
     ]
    }
   ],
   "source": [
    "def evaluate_model(model, X_test, y_test):\n",
    "    y_pred = model.predict(X_test)\n",
    "    cm = confusion_matrix(y_test, y_pred)\n",
    "    results = {\n",
    "        'Confusion Matrix': cm,\n",
    "        'Accuracy': accuracy_score(y_test, y_pred),\n",
    "        'Precision': precision_score(y_test, y_pred, average='macro'),  \n",
    "        'Recall': recall_score(y_test, y_pred, average='macro'),  \n",
    "        'F1-Score': f1_score(y_test, y_pred, average='macro')  \n",
    "    }\n",
    "    return results\n",
    "\n",
    "# Mengevaluasi setiap model dan mengumpulkan hasilnya\n",
    "results = {\n",
    "    'Random Forest (RF)': evaluate_model(rf, X_test, y_test),\n",
    "}\n",
    "        \n",
    "summary_df = pd.DataFrame(columns=['Model', 'Accuracy', 'Precision', 'Recall', 'F1-Score'])\n",
    "rows = []\n",
    "for model_name, metrics in results.items():\n",
    "    rows.append({\n",
    "        'Model': model_name,\n",
    "        'Accuracy': metrics['Accuracy'],\n",
    "        'Precision': metrics['Precision'],\n",
    "        'Recall': metrics['Recall'],\n",
    "        'F1-Score': metrics['F1-Score']\n",
    "    })\n",
    "    \n",
    "summary_df = pd.DataFrame(rows)\n",
    " \n",
    "# Tampilkan DataFrame\n",
    "print(summary_df)"
   ]
  },
  {
   "cell_type": "code",
   "execution_count": 63,
   "metadata": {
    "id": "tMq4QAssNLip"
   },
   "outputs": [
    {
     "data": {
      "image/png": "[encoded data removed]",
      "text/plain": [
       "<Figure size 600x400 with 2 Axes>"
      ]
     },
     "metadata": {},
     "output_type": "display_data"
    }
   ],
   "source": [
    "conf_matrix = confusion_matrix(y_test, y_pred)\n",
    "\n",
    "# Buat heatmap dengan label dinamis (bisa digunakan untuk multiclass)\n",
    "plt.figure(figsize=(6, 4))\n",
    "sns.heatmap(conf_matrix, annot=True, fmt=\"d\", cmap=\"Blues\", \n",
    "            xticklabels=set(y_test), yticklabels=set(y_test))  # Label otomatis\n",
    "\n",
    "# Tambahkan label dan judul\n",
    "plt.xlabel(\"Predicted Label\")\n",
    "plt.ylabel(\"Actual Label\")\n",
    "plt.title(\"Confusion Matrix\")\n",
    "plt.show()"
   ]
  },
  {
   "cell_type": "code",
   "execution_count": 64,
   "metadata": {},
   "outputs": [
    {
     "name": "stdout",
     "output_type": "stream",
     "text": [
      "Akurasi Training: 1.0000\n",
      "Akurasi Testing : 0.9978\n"
     ]
    }
   ],
   "source": [
    "train_score = rf.score(X_train, y_train)\n",
    "test_score = rf.score(X_test, y_test)\n",
    "\n",
    "print(f\"Akurasi Training: {train_score:.4f}\")\n",
    "print(f\"Akurasi Testing : {test_score:.4f}\")"
   ]
  },
  {
   "cell_type": "markdown",
   "metadata": {
    "id": "H4_9OwrsXZlz"
   },
   "source": [
    "1. Dilihat dari nilai akurasi, tidak terdapat underfitting dan overfitting"
   ]
  },
  {
   "cell_type": "markdown",
   "metadata": {
    "id": "ph9yIYDXEPuB"
   },
   "source": [
    "## **c. Tuning Model Klasifikasi (Optional)**"
   ]
  },
  {
   "cell_type": "markdown",
   "metadata": {
    "id": "-Bikx3LINv5e"
   },
   "source": [
    "Gunakan GridSearchCV, RandomizedSearchCV, atau metode lainnya untuk mencari kombinasi hyperparameter terbaik"
   ]
  },
  {
   "cell_type": "code",
   "execution_count": null,
   "metadata": {
    "id": "winbFzb8NL95"
   },
   "outputs": [],
   "source": []
  },
  {
   "cell_type": "markdown",
   "metadata": {
    "id": "hE7pqlEPEYzI"
   },
   "source": [
    "## **d. Evaluasi Model Klasifikasi setelah Tuning (Optional)**"
   ]
  },
  {
   "cell_type": "markdown",
   "metadata": {
    "id": "feaPESoeN0zz"
   },
   "source": [
    "Berikut adalah rekomendasi tahapannya.\n",
    "1. Gunakan model dengan hyperparameter terbaik.\n",
    "2. Hitung ulang metrik evaluasi untuk melihat apakah ada peningkatan performa."
   ]
  },
  {
   "cell_type": "code",
   "execution_count": null,
   "metadata": {},
   "outputs": [],
   "source": []
  },
  {
   "cell_type": "markdown",
   "metadata": {
    "id": "ZRsOdm4uEgAW"
   },
   "source": [
    "## **e. Analisis Hasil Evaluasi Model Klasifikasi**"
   ]
  },
  {
   "cell_type": "markdown",
   "metadata": {
    "id": "Hm3BhSi6N4_l"
   },
   "source": [
    "Berikut adalah **rekomendasi** tahapannya.\n",
    "1. Bandingkan hasil evaluasi sebelum dan setelah tuning (jika dilakukan).\n",
    "2. Identifikasi kelemahan model, seperti:\n",
    "  - Precision atau Recall rendah untuk kelas tertentu.\n",
    "  - Apakah model mengalami overfitting atau underfitting?\n",
    "3. Berikan rekomendasi tindakan lanjutan, seperti mengumpulkan data tambahan atau mencoba algoritma lain jika hasil belum memuaskan."
   ]
  }
 ],
 "metadata": {
  "colab": {
   "provenance": []
  },
  "kernelspec": {
   "display_name": "Python 3 (ipykernel)",
   "language": "python",
   "name": "python3"
  },
  "language_info": {
   "codemirror_mode": {
    "name": "ipython",
    "version": 3
   },
   "file_extension": ".py",
   "mimetype": "text/x-python",
   "name": "python",
   "nbconvert_exporter": "python",
   "pygments_lexer": "ipython3",
   "version": "3.9.13"
  }
 },
 "nbformat": 4,
 "nbformat_minor": 1
}
